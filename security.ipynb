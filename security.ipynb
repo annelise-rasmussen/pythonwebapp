{
  "nbformat": 4,
  "nbformat_minor": 0,
  "metadata": {
    "colab": {
      "provenance": []
    },
    "kernelspec": {
      "name": "python3",
      "display_name": "Python 3"
    },
    "language_info": {
      "name": "python"
    }
  },
  "cells": [
    {
      "cell_type": "markdown",
      "source": [
        "Troubleshooting your databases by making sure you have privledges for your user in mariadb"
      ],
      "metadata": {
        "id": "anLQAfKGEZGm"
      }
    },
    {
      "cell_type": "code",
      "source": [],
      "metadata": {
        "id": "weeBW9HDEYT2"
      },
      "execution_count": null,
      "outputs": []
    },
    {
      "cell_type": "code",
      "source": [
        "sudo mariadb -u root -p < ~/cats.sql # if you have cats.sql in your main home use the tilda or go through the ab\n",
        "GRANT ALL PRIVILEGES ON catsrus.* TO 'annelise'@'localhost';"
      ],
      "metadata": {
        "id": "Hut8SMpyEXCJ"
      },
      "execution_count": null,
      "outputs": []
    },
    {
      "cell_type": "code",
      "source": [
        "pip install mysql-connector-python"
      ],
      "metadata": {
        "colab": {
          "base_uri": "https://localhost:8080/"
        },
        "id": "t6NYZ3v5Kcnr",
        "outputId": "11db20ca-4854-41ca-8ce5-70b3a6b761ef"
      },
      "execution_count": null,
      "outputs": [
        {
          "output_type": "stream",
          "name": "stdout",
          "text": [
            "Collecting mysql-connector-python\n",
            "  Downloading mysql_connector_python-8.3.0-cp310-cp310-manylinux_2_17_x86_64.whl (21.5 MB)\n",
            "\u001b[2K     \u001b[90m━━━━━━━━━━━━━━━━━━━━━━━━━━━━━━━━━━━━━━━━\u001b[0m \u001b[32m21.5/21.5 MB\u001b[0m \u001b[31m30.6 MB/s\u001b[0m eta \u001b[36m0:00:00\u001b[0m\n",
            "\u001b[?25hInstalling collected packages: mysql-connector-python\n",
            "Successfully installed mysql-connector-python-8.3.0\n"
          ]
        }
      ]
    },
    {
      "cell_type": "code",
      "execution_count": null,
      "metadata": {
        "id": "oT1k-WnsEV4T"
      },
      "outputs": [],
      "source": [
        "import mysql.connector\n",
        "from werkzeug.security import generate_password_hash\n",
        "\n",
        "# Configuration for your MariaDB connection\n",
        "config = {\n",
        "    'user': 'username',  # or your MariaDB username\n",
        "    'password': 'password',  # your MariaDB password\n",
        "    'host': 'localhost',  # or your MariaDB host if not local\n",
        "    'database': 'database',  # your database name\n",
        "    'raise_on_warnings': True\n",
        "}\n",
        "\n",
        "# Users and their passwords\n",
        "users = {\n",
        "    'username': 'securepassword',\n",
        "    'username': 'securepassword',\n",
        "    'username': 'securepassword',\n",
        "    'username': 'securepassword'\n",
        "}\n",
        "\n",
        "try:\n",
        "    # Connect to the database\n",
        "    db = mysql.connector.connect(**config)\n",
        "    cursor = db.cursor()\n",
        "\n",
        "    # Insert each user and their hashed password into the database\n",
        "    for user, password in users.items():\n",
        "        hashed_password = generate_password_hash(password)\n",
        "        email = f\"{user.lower()}@website.com\"  # Example email format\n",
        "        sql = f\"UPDATE tablename SET password_hash = '{hashed_password}'WHERE name = {user} AND email = {email})\"\n",
        "        cursor.execute(sql)\n",
        "\n",
        "    db.commit()  # Make sure data is committed to the database\n",
        "    print(\"Users inserted successfully\")\n",
        "\n",
        "except mysql.connector.Error as err:\n",
        "    print(f\"Error: {err}\")\n",
        "\n",
        "finally:\n",
        "    if (db.is_connected()):\n",
        "        cursor.close()\n",
        "        db.close()\n",
        "        print(\"Database connection is closed\")\n"
      ]
    },
    {
      "cell_type": "code",
      "source": [
        "#checking to see if your hash is in the database"
      ],
      "metadata": {
        "id": "REuAZdm07uP4"
      },
      "execution_count": null,
      "outputs": []
    },
    {
      "cell_type": "code",
      "source": [
        "import mysql.connector\n",
        "\n",
        "# Assume these are set from your environment or securely stored\n",
        "config = {\n",
        "    'user': 'root',\n",
        "    'password': 'your_password',\n",
        "    'host': 'localhost',\n",
        "    'database': 'databasename',\n",
        "    'raise_on_warnings': True\n",
        "}\n",
        "\n",
        "def get_user_hash(email):\n",
        "    try:\n",
        "        db = mysql.connector.connect(**config)\n",
        "        cursor = db.cursor()\n",
        "        query = \"SELECT password_hash FROM table WHERE email = %s\"\n",
        "        cursor.execute(query, (email,))\n",
        "        result = cursor.fetchone()  # Get the first result\n",
        "        return result[0] if result else None\n",
        "    except mysql.connector.Error as err:\n",
        "        print(f\"Error: {err}\")\n",
        "        return None\n",
        "    finally:\n",
        "        if db.is_connected():\n",
        "            cursor.close()\n",
        "            db.close()\n",
        "\n",
        "# Example usage\n",
        "user_email = 'username@website.com'\n",
        "user_hash = get_user_hash(user_email)\n",
        "print(\"Retrieved Hash:\", user_hash)"
      ],
      "metadata": {
        "id": "-nwWYDKtFpph"
      },
      "execution_count": null,
      "outputs": []
    },
    {
      "cell_type": "code",
      "source": [
        "from flask import Flask, request, render_template, redirect, url_for, flash\n",
        "import mysql.connector\n",
        "from werkzeug.security import check_password_hash\n",
        "from markupsafe import Markup\n",
        "import random\n",
        "import mysql.connector\n",
        "import configparser\n",
        "from flask_httpauth import HTTPBasicAuth\n",
        "from werkzeug.security import generate_password_hash, check_password_hash\n",
        "\n",
        "#you will change the static folder path here to your own static folder path\n",
        "app = Flask(__name__, static_folder='/home/static')\n",
        "\n",
        "\n",
        "config = configparser.ConfigParser()\n",
        "configFile = 'contacts.cfg'\n",
        "config.read(configFile)\n",
        "database = config['database']\n",
        "db = database['db']\n",
        "dbHost=database['host']\n",
        "dbUser=database['user']\n",
        "dbPass=database['pass']\n",
        "cnx = mysql.connector.connect(user=dbUser, password = dbPass, host= dbHost, database= db)\n",
        "\n",
        "@app.route('/login', methods=['GET', 'POST'])\n",
        "def login():\n",
        "    if request.method == 'POST':\n",
        "        username = request.form['username']\n",
        "        password = request.form['password']\n",
        "        conn = mysql.connector.connect(**db_config)\n",
        "        cursor = conn.cursor()\n",
        "        cursor.execute(\"SELECT password_hash FROM contactsTable WHERE name = %s\", (username,))\n",
        "        user = cursor.fetchone()\n",
        "        cursor.close()\n",
        "        conn.close()\n",
        "        if user and check_password_hash(user[0], password):\n",
        "            # Login successful\n",
        "            return redirect(url_for('dashboard'))  # Redirect to another page or dashboard\n",
        "        else:\n",
        "            flash('Invalid username or password')\n",
        "            return redirect(url_for('login'))\n",
        "    return render_template('login.html')\n",
        "\n",
        "@app.route('/dashboard')\n",
        "def dashboard():\n",
        "    return 'Welcome to the Dashboard!'\n",
        "\n",
        "if __name__ == '__main__':\n",
        "    app.run(debug=True)"
      ],
      "metadata": {
        "id": "1S-eE7Ii5Je9"
      },
      "execution_count": null,
      "outputs": []
    }
  ]
}